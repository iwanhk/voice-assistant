{
 "cells": [
  {
   "cell_type": "markdown",
   "id": "a786c77c",
   "metadata": {},
   "source": [
    "# LangChain: Memory\n",
    "\n",
    "## Outline\n",
    "* ConversationBufferMemory\n",
    "* ConversationBufferWindowMemory\n",
    "* ConversationTokenBufferMemory\n",
    "* ConversationSummaryMemory"
   ]
  },
  {
   "cell_type": "markdown",
   "id": "1297dcd5",
   "metadata": {},
   "source": [
    "## ConversationBufferMemory"
   ]
  },
  {
   "cell_type": "markdown",
   "id": "2301270b-7a69-40f8-9934-f840499b6ae9",
   "metadata": {},
   "source": [
    "Note: LLM's do not always produce the same results. When executing the code in your notebook, you may get slightly different answers that those in the video."
   ]
  },
  {
   "cell_type": "code",
   "execution_count": 57,
   "id": "20ad6fe2",
   "metadata": {
    "height": 81,
    "tags": []
   },
   "outputs": [],
   "source": [
    "from config import *\n",
    "from langchain.chains import ConversationChain\n",
    "from langchain.memory import ConversationBufferMemory\n",
    "import tqdm as notebook_tqdm"
   ]
  },
  {
   "cell_type": "code",
   "execution_count": 34,
   "id": "88bdf13d",
   "metadata": {
    "height": 132,
    "tags": []
   },
   "outputs": [],
   "source": [
    "llm = load(\"Tongyi\")\n",
    "memory = ConversationBufferMemory()\n",
    "conversation = ConversationChain(\n",
    "    llm=llm, \n",
    "    memory = memory,\n",
    "    verbose=True\n",
    ")"
   ]
  },
  {
   "cell_type": "code",
   "execution_count": 35,
   "id": "db24677d",
   "metadata": {
    "height": 30,
    "tags": []
   },
   "outputs": [
    {
     "name": "stdout",
     "output_type": "stream",
     "text": [
      "\n",
      "\n",
      "\u001b[1m> Entering new ConversationChain chain...\u001b[0m\n",
      "Prompt after formatting:\n",
      "\u001b[32;1m\u001b[1;3mThe following is a friendly conversation between a human and an AI. The AI is talkative and provides lots of specific details from its context. If the AI does not know the answer to a question, it truthfully says it does not know.\n",
      "\n",
      "Current conversation:\n",
      "\n",
      "Human: 我是理文，你呢？\n",
      "AI:\u001b[0m\n",
      "\n",
      "\u001b[1m> Finished chain.\u001b[0m\n"
     ]
    },
    {
     "data": {
      "text/plain": [
       "'我是来自阿里云的超大规模语言模型，你可以叫我通义千问。很高兴与你交流！在对话中，如果你有任何问题或需要帮助，请随时告诉我，我会尽力提供支持。'"
      ]
     },
     "execution_count": 35,
     "metadata": {},
     "output_type": "execute_result"
    }
   ],
   "source": [
    "conversation.predict(input=\"我是理文,你呢？\")"
   ]
  },
  {
   "cell_type": "code",
   "execution_count": 36,
   "id": "cc3ef937",
   "metadata": {
    "height": 30,
    "tags": []
   },
   "outputs": [
    {
     "name": "stdout",
     "output_type": "stream",
     "text": [
      "\n",
      "\n",
      "\u001b[1m> Entering new ConversationChain chain...\u001b[0m\n",
      "Prompt after formatting:\n",
      "\u001b[32;1m\u001b[1;3mThe following is a friendly conversation between a human and an AI. The AI is talkative and provides lots of specific details from its context. If the AI does not know the answer to a question, it truthfully says it does not know.\n",
      "\n",
      "Current conversation:\n",
      "Human: 我是理文，你呢？\n",
      "AI: 我是来自阿里云的超大规模语言模型，你可以叫我通义千问。很高兴与你交流！在对话中，如果你有任何问题或需要帮助，请随时告诉我，我会尽力提供支持。\n",
      "Human: 天涯何处是归人？\n",
      "AI:\u001b[0m\n",
      "\n",
      "\u001b[1m> Finished chain.\u001b[0m\n"
     ]
    },
    {
     "data": {
      "text/plain": [
       "'这句诗表达了游子对故乡的深深思念。\"天涯何处是归人\"出自唐朝诗人马戴的《塞下曲》，原句为\"落叶他乡树，寒灯独夜人。不知何处路，此夜宿沙尘。\"这里的\"归人\"指的是漂泊在外的游子，他们在遥远的地方寻找着回家的路。这首诗描绘了旅人的孤独和思乡之情。如果你有关于诗词、文化或者需要解读诗句方面的帮助，我很乐意提供。'"
      ]
     },
     "execution_count": 36,
     "metadata": {},
     "output_type": "execute_result"
    }
   ],
   "source": [
    "conversation.predict(input=\"天涯何处是归人？\")"
   ]
  },
  {
   "cell_type": "code",
   "execution_count": 37,
   "id": "acf3339a",
   "metadata": {
    "height": 30,
    "tags": []
   },
   "outputs": [
    {
     "name": "stdout",
     "output_type": "stream",
     "text": [
      "\n",
      "\n",
      "\u001b[1m> Entering new ConversationChain chain...\u001b[0m\n",
      "Prompt after formatting:\n",
      "\u001b[32;1m\u001b[1;3mThe following is a friendly conversation between a human and an AI. The AI is talkative and provides lots of specific details from its context. If the AI does not know the answer to a question, it truthfully says it does not know.\n",
      "\n",
      "Current conversation:\n",
      "Human: 我是理文，你呢？\n",
      "AI: 我是来自阿里云的超大规模语言模型，你可以叫我通义千问。很高兴与你交流！在对话中，如果你有任何问题或需要帮助，请随时告诉我，我会尽力提供支持。\n",
      "Human: 天涯何处是归人？\n",
      "AI: 这句诗表达了游子对故乡的深深思念。\"天涯何处是归人\"出自唐朝诗人马戴的《塞下曲》，原句为\"落叶他乡树，寒灯独夜人。不知何处路，此夜宿沙尘。\"这里的\"归人\"指的是漂泊在外的游子，他们在遥远的地方寻找着回家的路。这首诗描绘了旅人的孤独和思乡之情。如果你有关于诗词、文化或者需要解读诗句方面的帮助，我很乐意提供。\n",
      "Human: 我叫什么？\n",
      "AI:\u001b[0m\n",
      "\n",
      "\u001b[1m> Finished chain.\u001b[0m\n"
     ]
    },
    {
     "data": {
      "text/plain": [
       "'你自我介绍为“理文”，但具体的名字我没有记录。如果你需要，我们可以随意为你起个昵称，或者你也可以告诉我你的真名，我会更好地记住。'"
      ]
     },
     "execution_count": 37,
     "metadata": {},
     "output_type": "execute_result"
    }
   ],
   "source": [
    "conversation.predict(input=\"我叫什么？\")"
   ]
  },
  {
   "cell_type": "code",
   "execution_count": 38,
   "id": "2529400d",
   "metadata": {
    "height": 30,
    "tags": []
   },
   "outputs": [
    {
     "name": "stdout",
     "output_type": "stream",
     "text": [
      "Human: 我是理文，你呢？\n",
      "AI: 我是来自阿里云的超大规模语言模型，你可以叫我通义千问。很高兴与你交流！在对话中，如果你有任何问题或需要帮助，请随时告诉我，我会尽力提供支持。\n",
      "Human: 天涯何处是归人？\n",
      "AI: 这句诗表达了游子对故乡的深深思念。\"天涯何处是归人\"出自唐朝诗人马戴的《塞下曲》，原句为\"落叶他乡树，寒灯独夜人。不知何处路，此夜宿沙尘。\"这里的\"归人\"指的是漂泊在外的游子，他们在遥远的地方寻找着回家的路。这首诗描绘了旅人的孤独和思乡之情。如果你有关于诗词、文化或者需要解读诗句方面的帮助，我很乐意提供。\n",
      "Human: 我叫什么？\n",
      "AI: 你自我介绍为“理文”，但具体的名字我没有记录。如果你需要，我们可以随意为你起个昵称，或者你也可以告诉我你的真名，我会更好地记住。\n"
     ]
    }
   ],
   "source": [
    "print(memory.buffer)"
   ]
  },
  {
   "cell_type": "code",
   "execution_count": 39,
   "id": "5018cb0a",
   "metadata": {
    "height": 30,
    "tags": []
   },
   "outputs": [
    {
     "data": {
      "text/plain": [
       "{'history': 'Human: 我是理文，你呢？\\nAI: 我是来自阿里云的超大规模语言模型，你可以叫我通义千问。很高兴与你交流！在对话中，如果你有任何问题或需要帮助，请随时告诉我，我会尽力提供支持。\\nHuman: 天涯何处是归人？\\nAI: 这句诗表达了游子对故乡的深深思念。\"天涯何处是归人\"出自唐朝诗人马戴的《塞下曲》，原句为\"落叶他乡树，寒灯独夜人。不知何处路，此夜宿沙尘。\"这里的\"归人\"指的是漂泊在外的游子，他们在遥远的地方寻找着回家的路。这首诗描绘了旅人的孤独和思乡之情。如果你有关于诗词、文化或者需要解读诗句方面的帮助，我很乐意提供。\\nHuman: 我叫什么？\\nAI: 你自我介绍为“理文”，但具体的名字我没有记录。如果你需要，我们可以随意为你起个昵称，或者你也可以告诉我你的真名，我会更好地记住。'}"
      ]
     },
     "execution_count": 39,
     "metadata": {},
     "output_type": "execute_result"
    }
   ],
   "source": [
    "memory.load_memory_variables({})"
   ]
  },
  {
   "cell_type": "code",
   "execution_count": 40,
   "id": "14219b70",
   "metadata": {
    "height": 30,
    "tags": []
   },
   "outputs": [],
   "source": [
    "memory = ConversationBufferMemory()"
   ]
  },
  {
   "cell_type": "code",
   "execution_count": 41,
   "id": "a36e9905",
   "metadata": {
    "height": 47,
    "tags": []
   },
   "outputs": [],
   "source": [
    "memory.save_context({\"input\": \"你好\"}, \n",
    "                    {\"output\": \"今天怎么样？\"})"
   ]
  },
  {
   "cell_type": "code",
   "execution_count": 42,
   "id": "61631b1f",
   "metadata": {
    "height": 30,
    "tags": []
   },
   "outputs": [
    {
     "name": "stdout",
     "output_type": "stream",
     "text": [
      "Human: 你好\n",
      "AI: 今天怎么样？\n"
     ]
    }
   ],
   "source": [
    "print(memory.buffer)"
   ]
  },
  {
   "cell_type": "code",
   "execution_count": 43,
   "id": "a2fdf9ec",
   "metadata": {
    "height": 30,
    "tags": []
   },
   "outputs": [
    {
     "data": {
      "text/plain": [
       "{'history': 'Human: 你好\\nAI: 今天怎么样？'}"
      ]
     },
     "execution_count": 43,
     "metadata": {},
     "output_type": "execute_result"
    }
   ],
   "source": [
    "memory.load_memory_variables({})"
   ]
  },
  {
   "cell_type": "code",
   "execution_count": 46,
   "id": "7ca79256",
   "metadata": {
    "height": 47,
    "tags": []
   },
   "outputs": [],
   "source": [
    "memory.save_context({\"input\": \"还行吧,你呢？\"}, \n",
    "                    {\"output\": \"活着\"})"
   ]
  },
  {
   "cell_type": "code",
   "execution_count": 47,
   "id": "890a4497",
   "metadata": {
    "height": 30,
    "tags": []
   },
   "outputs": [
    {
     "data": {
      "text/plain": [
       "{'history': 'Human: 你好\\nAI: 今天怎么样？\\nHuman: Not much, just hanging\\nAI: Cool\\nHuman: 还行吧，你呢？\\nAI: 活着\\nHuman: 还行吧，你呢？\\nAI: 活着'}"
      ]
     },
     "execution_count": 47,
     "metadata": {},
     "output_type": "execute_result"
    }
   ],
   "source": [
    "memory.load_memory_variables({})"
   ]
  },
  {
   "cell_type": "markdown",
   "id": "cf98e9ff",
   "metadata": {
    "tags": []
   },
   "source": [
    "## ConversationBufferWindowMemory"
   ]
  },
  {
   "cell_type": "code",
   "execution_count": 48,
   "id": "66eeccc3",
   "metadata": {
    "height": 30,
    "tags": []
   },
   "outputs": [],
   "source": [
    "from langchain.memory import ConversationBufferWindowMemory"
   ]
  },
  {
   "cell_type": "code",
   "execution_count": 49,
   "id": "3ea6233e",
   "metadata": {
    "height": 30,
    "tags": []
   },
   "outputs": [],
   "source": [
    "memory = ConversationBufferWindowMemory(k=1)               "
   ]
  },
  {
   "cell_type": "code",
   "execution_count": 50,
   "id": "dc4553fb",
   "metadata": {
    "height": 98,
    "tags": []
   },
   "outputs": [],
   "source": [
    "memory.save_context({\"input\": \"你好\"},\n",
    "                    {\"output\": \"你好,今天怎么样\"})\n",
    "memory.save_context({\"input\": \"还行吧,你呢？\"},\n",
    "                    {\"output\": \"活着\"})\n"
   ]
  },
  {
   "cell_type": "code",
   "execution_count": 51,
   "id": "6a788403",
   "metadata": {
    "height": 30,
    "tags": []
   },
   "outputs": [
    {
     "data": {
      "text/plain": [
       "{'history': 'Human: 还行吧，你呢？\\nAI: 活着'}"
      ]
     },
     "execution_count": 51,
     "metadata": {},
     "output_type": "execute_result"
    }
   ],
   "source": [
    "memory.load_memory_variables({})"
   ]
  },
  {
   "cell_type": "code",
   "execution_count": 52,
   "id": "4087bc87",
   "metadata": {
    "height": 132,
    "tags": []
   },
   "outputs": [],
   "source": [
    "llm = load(\"Tongyi\")\n",
    "memory = ConversationBufferWindowMemory(k=1)\n",
    "conversation = ConversationChain(\n",
    "    llm=llm, \n",
    "    memory = memory,\n",
    "    verbose=False\n",
    ")"
   ]
  },
  {
   "cell_type": "code",
   "execution_count": 53,
   "id": "4faaa952",
   "metadata": {
    "height": 30,
    "tags": []
   },
   "outputs": [
    {
     "data": {
      "text/plain": [
       "'你好，理文！很高兴与你交谈。我是一个AI助手，专门设计来提供信息和帮助解答问题。有什么我可以为你效劳的吗？'"
      ]
     },
     "execution_count": 53,
     "metadata": {},
     "output_type": "execute_result"
    }
   ],
   "source": [
    "conversation.predict(input=\"我是理文\")"
   ]
  },
  {
   "cell_type": "code",
   "execution_count": 54,
   "id": "bb20ddaa",
   "metadata": {
    "height": 30,
    "tags": []
   },
   "outputs": [
    {
     "data": {
      "text/plain": [
       "'这句诗表达了游子对故乡的深深思念。\"天涯何处是归人\"出自唐代诗人马戴的《灞上秋居》，意思是茫茫人世间，哪里才是我真正的归宿呢？如果你对这首诗或者中国古代文学有兴趣，我可以帮你深入了解。'"
      ]
     },
     "execution_count": 54,
     "metadata": {},
     "output_type": "execute_result"
    }
   ],
   "source": [
    "conversation.predict(input=\"天涯何处是归人？\")"
   ]
  },
  {
   "cell_type": "code",
   "execution_count": 55,
   "id": "489b2194",
   "metadata": {
    "height": 30,
    "tags": []
   },
   "outputs": [
    {
     "data": {
      "text/plain": [
       "'很抱歉，由于我是一个人工智能，我并不具备获取或存储个人身份信息的能力。我无法告诉你你的名字，除非你主动提供。如果你需要，我们可以聊聊其他话题。'"
      ]
     },
     "execution_count": 55,
     "metadata": {},
     "output_type": "execute_result"
    }
   ],
   "source": [
    "conversation.predict(input=\"我叫什么？\")"
   ]
  },
  {
   "cell_type": "markdown",
   "id": "d2931b92",
   "metadata": {},
   "source": [
    "## ConversationTokenBufferMemory"
   ]
  },
  {
   "cell_type": "code",
   "execution_count": 23,
   "id": "9f6d063c",
   "metadata": {
    "height": 30,
    "tags": []
   },
   "outputs": [],
   "source": [
    "#!pip install tiktoken"
   ]
  },
  {
   "cell_type": "code",
   "execution_count": 56,
   "id": "fb9020ed",
   "metadata": {
    "height": 64,
    "tags": []
   },
   "outputs": [],
   "source": [
    "from langchain.memory import ConversationTokenBufferMemory\n",
    "llm = load(\"Tongyi\")"
   ]
  },
  {
   "cell_type": "code",
   "execution_count": 58,
   "id": "43582ee6",
   "metadata": {
    "height": 132,
    "tags": []
   },
   "outputs": [],
   "source": [
    "memory = ConversationTokenBufferMemory(llm=llm, max_token_limit=50)\n",
    "memory.save_context({\"input\": \"你好\"},\n",
    "                    {\"output\": \"你好,今天怎么样\"})\n",
    "memory.save_context({\"input\": \"还行吧,你呢？\"},\n",
    "                    {\"output\": \"活着\"})"
   ]
  },
  {
   "cell_type": "code",
   "execution_count": 59,
   "id": "284288e1",
   "metadata": {
    "height": 30,
    "tags": []
   },
   "outputs": [
    {
     "data": {
      "text/plain": [
       "{'history': 'AI: 你好，今天怎么样\\nHuman: 还行吧，你呢？\\nAI: 活着'}"
      ]
     },
     "execution_count": 59,
     "metadata": {},
     "output_type": "execute_result"
    }
   ],
   "source": [
    "memory.load_memory_variables({})"
   ]
  },
  {
   "cell_type": "markdown",
   "id": "5ff55d5d",
   "metadata": {},
   "source": [
    "## ConversationSummaryMemory"
   ]
  },
  {
   "cell_type": "code",
   "execution_count": 60,
   "id": "72dcf8b1",
   "metadata": {
    "height": 30,
    "tags": []
   },
   "outputs": [],
   "source": [
    "from langchain.memory import ConversationSummaryBufferMemory"
   ]
  },
  {
   "cell_type": "code",
   "execution_count": 67,
   "id": "4a5b238f",
   "metadata": {
    "height": 268,
    "tags": []
   },
   "outputs": [],
   "source": [
    "# create a long string\n",
    "docs = \"\"\"\n",
    "智慧文旅门票\n",
    "随着元宇宙,AIGC等技术的成熟,文旅行业正进入数字化的快车道。门票,既是连接用户和景区最重要的凭证,也是串联各种数字化服务升级良好的纽带。我们选择用元宇宙和AIGC技术打造全新的数字门票,并且联合央视台在春晚做了全国首次“摇一摇送智慧文旅门票”的口播,覆盖了全国主要景区,开创了数字化文旅的新局面。\n",
    "智慧文旅门票与传统纸质门票和互联网平台的数字门票有着明显的区别。首先,智慧文旅门票是一个真正意义上的数字资产,它可以打通各个平台,让用户真正拥有资产,让景区真正拥有用户。每张门票都可以在数字原生资产浏览器上登记注册,实现公开透明,为景区数字资产的估值、数字资产并表和贷款等金融操作打下基础。\n",
    "为了为数字门票提供有力的技术支持,我们选择了ERC6551标准。这一标准在兼容ERC721的基础上,为门票提供了更多的属性和功能,如有效期、核销、动态属性、门票组合和通票选择等。这使得智慧文旅门票具有多个权益核销点,可以在景区内形成打卡点组合。也可以通过链上分账做到大小景区互相引流,共享游客,增量创收。这一标准的引入是对智慧文旅门票发行和管理的重大创新。\n",
    "生成式AIGC技术的成熟,已经可以智能得回答用户的各种问题,智慧文旅门票为每个景区都配备了AI小助手,通过私域数据的训练,可以完成从旅游行程安排,到景区信息问答,到周边生活建议等等多种功能。完整地配合每个用户的票务选择和出行。目前,全国各景区的数据正在训练中,很快就会有全面的智能服务。我们正在开发的智能AI助手,更可以配合出行拍摄文旅短视频,甚至短剧,让每个人都成为创作者。\n",
    "元宇宙的数字体验也逐渐成为大众消费者的选择。\n",
    "\"\"\"\n",
    "memory = ConversationSummaryBufferMemory(llm=llm, max_token_limit=100)\n",
    "memory.save_context({\"input\": \"你好\"},\n",
    "                    {\"output\": \"你好,今天怎么样\"})\n",
    "memory.save_context({\"input\": \"还行吧,你呢？\"},\n",
    "                    {\"output\": \"活着\"})\n",
    "memory.save_context({\"input\": \"智慧门票是什么？\"}, \n",
    "                    {\"output\": f\"{docs}\"})"
   ]
  },
  {
   "cell_type": "code",
   "execution_count": 68,
   "id": "2e4ecabe",
   "metadata": {
    "height": 30,
    "tags": []
   },
   "outputs": [
    {
     "data": {
      "text/plain": [
       "{'history': 'System: The human greets the AI and asks about its well-being. The AI responds that it\\'s functioning. The conversation shifts to discussing \"智慧文旅门票,\" which are innovative digital tickets facilitated by emerging technologies like元宇宙 (Metaverse) and AIGC. These tickets serve as digital assets, providing transparency and enabling various financial operations for both users and attractions. Using ERC6551 standard, they offer unique features like expiration dates, dynamic properties, and interoperability among different sites. Additionally, AI-powered by AIGC enables personalized assistance, assisting with travel planning, answering questions, and suggesting local activities. As part of the metaverse experience, these tickets also facilitate the creation of文旅短视频 and potentially short dramas. The AI system is currently being trained with data from various attractions, with a goal to offer comprehensive smart services soon.'}"
      ]
     },
     "execution_count": 68,
     "metadata": {},
     "output_type": "execute_result"
    }
   ],
   "source": [
    "memory.load_memory_variables({})"
   ]
  },
  {
   "cell_type": "code",
   "execution_count": 69,
   "id": "6728edba",
   "metadata": {
    "height": 98,
    "tags": []
   },
   "outputs": [],
   "source": [
    "conversation = ConversationChain(\n",
    "    llm=llm, \n",
    "    memory = memory,\n",
    "    verbose=True\n",
    ")"
   ]
  },
  {
   "cell_type": "code",
   "execution_count": 70,
   "id": "9a221b1d",
   "metadata": {
    "height": 30,
    "tags": []
   },
   "outputs": [
    {
     "name": "stdout",
     "output_type": "stream",
     "text": [
      "\n",
      "\n",
      "\u001b[1m> Entering new ConversationChain chain...\u001b[0m\n",
      "Prompt after formatting:\n",
      "\u001b[32;1m\u001b[1;3mThe following is a friendly conversation between a human and an AI. The AI is talkative and provides lots of specific details from its context. If the AI does not know the answer to a question, it truthfully says it does not know.\n",
      "\n",
      "Current conversation:\n",
      "System: The human greets the AI and asks about its well-being. The AI responds that it's functioning. The conversation shifts to discussing \"智慧文旅门票,\" which are innovative digital tickets facilitated by emerging technologies like元宇宙 (Metaverse) and AIGC. These tickets serve as digital assets, providing transparency and enabling various financial operations for both users and attractions. Using ERC6551 standard, they offer unique features like expiration dates, dynamic properties, and interoperability among different sites. Additionally, AI-powered by AIGC enables personalized assistance, assisting with travel planning, answering questions, and suggesting local activities. As part of the metaverse experience, these tickets also facilitate the creation of文旅短视频 and potentially short dramas. The AI system is currently being trained with data from various attractions, with a goal to offer comprehensive smart services soon.\n",
      "Human: 智慧门票好吗？\n",
      "AI:\u001b[0m\n",
      "\n",
      "\u001b[1m> Finished chain.\u001b[0m\n"
     ]
    },
    {
     "data": {
      "text/plain": [
       "'非常好，智慧文旅门票结合了先进的科技和创新理念，为游客带来了诸多便利。它们不仅提高了票务管理的效率，还通过个性化服务增强了用户体验。使用元宇宙和AIGC技术，它们实现了数字资产化，让信息透明，支持多种金融操作，比如转让或兑换。此外，通过ERC6551标准，这些门票具备了灵活的属性和跨平台的兼容性，使得旅行规划、问题解答以及本地活动推荐更加精准。对于文化旅游内容的创作，如短视频和微剧，也提供了新的可能。我正在持续学习和优化，相信不久后能为用户提供更全面的智能服务。如果您有任何关于这种票种的具体问题，或者想了解如何获取和使用，随时告诉我哦！'"
      ]
     },
     "execution_count": 70,
     "metadata": {},
     "output_type": "execute_result"
    }
   ],
   "source": [
    "conversation.predict(input=\"智慧门票好吗？\")"
   ]
  },
  {
   "cell_type": "code",
   "execution_count": 71,
   "id": "bb582617",
   "metadata": {
    "height": 30,
    "tags": []
   },
   "outputs": [
    {
     "data": {
      "text/plain": [
       "{'history': \"System: The human inquires about the effectiveness of the AI's opinion on the '智慧文旅门票'. The AI enthusiastically responds that they are excellent, integrating advanced technology and innovative ideas, enhancing convenience for tourists. These tickets boost efficiency, offer personalized services, and leverage Metaverse and AIGC to transform them into digital assets with transparent information. They support various financial transactions and adhere to the ERC6551 standard for flexibility and compatibility. By using AI-Powered AIGC, they facilitate travel planning, provide instant assistance, and suggest tailored activities. Furthermore, they enable the creation of multimedia content within the metaverse context. The AI system, continually learning from diverse attraction data, aims to deliver comprehensive smart services soon, and is open to helping users with ticket-related queries or usage guidance.\"}"
      ]
     },
     "execution_count": 71,
     "metadata": {},
     "output_type": "execute_result"
    }
   ],
   "source": [
    "memory.load_memory_variables({})"
   ]
  },
  {
   "cell_type": "markdown",
   "id": "c6709b89-182e-4b7b-b811-1584dda20652",
   "metadata": {},
   "source": [
    "Reminder: Download your notebook to you local computer to save your work."
   ]
  },
  {
   "cell_type": "code",
   "execution_count": null,
   "id": "4ba827aa",
   "metadata": {
    "height": 30
   },
   "outputs": [],
   "source": []
  },
  {
   "cell_type": "code",
   "execution_count": null,
   "id": "2c07922b",
   "metadata": {
    "height": 30
   },
   "outputs": [],
   "source": []
  },
  {
   "cell_type": "code",
   "execution_count": null,
   "id": "52696c8c",
   "metadata": {
    "height": 30
   },
   "outputs": [],
   "source": []
  },
  {
   "cell_type": "code",
   "execution_count": null,
   "id": "48690d13",
   "metadata": {
    "height": 30
   },
   "outputs": [],
   "source": []
  },
  {
   "cell_type": "code",
   "execution_count": null,
   "id": "85bba1f8",
   "metadata": {
    "height": 30
   },
   "outputs": [],
   "source": []
  },
  {
   "cell_type": "code",
   "execution_count": null,
   "id": "96a62e89",
   "metadata": {
    "height": 30
   },
   "outputs": [],
   "source": []
  },
  {
   "cell_type": "code",
   "execution_count": null,
   "id": "f953ad8d",
   "metadata": {
    "height": 30
   },
   "outputs": [],
   "source": []
  },
  {
   "cell_type": "code",
   "execution_count": null,
   "id": "b9bb2617",
   "metadata": {
    "height": 30
   },
   "outputs": [],
   "source": []
  },
  {
   "cell_type": "code",
   "execution_count": null,
   "id": "be1989bf",
   "metadata": {
    "height": 30
   },
   "outputs": [],
   "source": []
  },
  {
   "cell_type": "code",
   "execution_count": null,
   "id": "b1f8dca6",
   "metadata": {
    "height": 30
   },
   "outputs": [],
   "source": []
  },
  {
   "cell_type": "code",
   "execution_count": null,
   "id": "e9120949",
   "metadata": {
    "height": 30
   },
   "outputs": [],
   "source": []
  },
  {
   "cell_type": "code",
   "execution_count": null,
   "id": "55849fb5",
   "metadata": {
    "height": 30
   },
   "outputs": [],
   "source": []
  },
  {
   "cell_type": "code",
   "execution_count": null,
   "id": "94ae491b",
   "metadata": {
    "height": 30
   },
   "outputs": [],
   "source": []
  },
  {
   "cell_type": "code",
   "execution_count": null,
   "id": "e7c3aec3",
   "metadata": {
    "height": 30
   },
   "outputs": [],
   "source": []
  },
  {
   "cell_type": "code",
   "execution_count": null,
   "id": "5ae51a3f",
   "metadata": {
    "height": 30
   },
   "outputs": [],
   "source": []
  },
  {
   "cell_type": "code",
   "execution_count": null,
   "id": "06894001",
   "metadata": {
    "height": 30
   },
   "outputs": [],
   "source": []
  },
  {
   "cell_type": "code",
   "execution_count": null,
   "id": "e2fb674c",
   "metadata": {
    "height": 30
   },
   "outputs": [],
   "source": []
  },
  {
   "cell_type": "code",
   "execution_count": null,
   "id": "5158f4c8",
   "metadata": {
    "height": 30
   },
   "outputs": [],
   "source": []
  },
  {
   "cell_type": "code",
   "execution_count": null,
   "id": "2cebe066",
   "metadata": {
    "height": 30
   },
   "outputs": [],
   "source": []
  },
  {
   "cell_type": "code",
   "execution_count": null,
   "id": "65caee4d",
   "metadata": {
    "height": 30
   },
   "outputs": [],
   "source": []
  },
  {
   "cell_type": "code",
   "execution_count": null,
   "id": "04799230",
   "metadata": {
    "height": 30
   },
   "outputs": [],
   "source": []
  },
  {
   "cell_type": "code",
   "execution_count": null,
   "id": "30795c10",
   "metadata": {
    "height": 30
   },
   "outputs": [],
   "source": []
  },
  {
   "cell_type": "code",
   "execution_count": null,
   "id": "08ed59c4",
   "metadata": {
    "height": 30
   },
   "outputs": [],
   "source": []
  },
  {
   "cell_type": "code",
   "execution_count": null,
   "id": "bb43eee3",
   "metadata": {
    "height": 30
   },
   "outputs": [],
   "source": []
  }
 ],
 "metadata": {
  "kernelspec": {
   "display_name": "Python 3 (ipykernel)",
   "language": "python",
   "name": "python3"
  },
  "language_info": {
   "codemirror_mode": {
    "name": "ipython",
    "version": 3
   },
   "file_extension": ".py",
   "mimetype": "text/x-python",
   "name": "python",
   "nbconvert_exporter": "python",
   "pygments_lexer": "ipython3",
   "version": "3.9.10"
  }
 },
 "nbformat": 4,
 "nbformat_minor": 5
}
